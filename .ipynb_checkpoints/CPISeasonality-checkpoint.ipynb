{
 "cells": [
  {
   "cell_type": "markdown",
   "id": "0e947080",
   "metadata": {},
   "source": [
    "# This code is written by Chirag Mirani\n",
    "# On January 29, 2020\n",
    "\n",
    "# This code calculates 2021 seasonal factors for various CPI categories. "
   ]
  },
  {
   "cell_type": "code",
   "execution_count": 36,
   "id": "8e41fca3",
   "metadata": {},
   "outputs": [],
   "source": [
    "#!pip install statsmodels\n",
    "import pandas as pd\n",
    "from statsmodels.tsa.seasonal import seasonal_decompose\n",
    "\n",
    "#create a dataframe to store the CPISeasonality Index\n",
    "seasonalityCPI2021=pd.DataFrame()\n",
    "\n",
    "#read the data\n",
    "data_orig = pd.read_csv('data\\\\ALLNSA.csv')\n",
    "\n",
    "#convert date column to date\n",
    "data_orig['Date'] = pd.to_datetime(data_orig['Date']) # convert date column to DateTime\n",
    "\n",
    "#add the date column to the final output file as well\n",
    "seasonalityCPI2021 = seasonalityCPI2021.join(data_orig['Date'])\n",
    "\n",
    "#set dates equal to the final index\n",
    "data_orig.set_index('Date', inplace=True)\n",
    "seasonalityCPI2021.set_index('Date', inplace=True)\n",
    "\n",
    "#iterates through all the columns and gets the seasonality\n",
    "for (columnName, columnData) in data_orig.iteritems():\n",
    "      analysis = data_orig[[columnName]].copy()\n",
    "      decompose_result_mult = seasonal_decompose(analysis, model=\"multiplicative\")\n",
    "      seasonal = decompose_result_mult.seasonal*100\n",
    "      seasonalityCPI2021 = pd.concat([seasonalityCPI2021, seasonal.rename(columnName)], axis=1)\n",
    "\n",
    "seasonalityCPI2021 = seasonalityCPI2021.tail(12)\n",
    "seasonalityCPI2021.shape\n",
    "seasonalityCPI2021.to_csv(\"data\\\\CPISeasonalityIndices2021.csv\")\n",
    "\n"
   ]
  },
  {
   "cell_type": "code",
   "execution_count": null,
   "id": "eea489f2",
   "metadata": {},
   "outputs": [],
   "source": []
  }
 ],
 "metadata": {
  "kernelspec": {
   "display_name": "Python 3 (ipykernel)",
   "language": "python",
   "name": "python3"
  },
  "language_info": {
   "codemirror_mode": {
    "name": "ipython",
    "version": 3
   },
   "file_extension": ".py",
   "mimetype": "text/x-python",
   "name": "python",
   "nbconvert_exporter": "python",
   "pygments_lexer": "ipython3",
   "version": "3.8.12"
  }
 },
 "nbformat": 4,
 "nbformat_minor": 5
}
